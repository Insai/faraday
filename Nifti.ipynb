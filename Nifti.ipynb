{
 "cells": [
  {
   "cell_type": "code",
   "execution_count": 1,
   "id": "aa0e60ca",
   "metadata": {},
   "outputs": [],
   "source": [
    "import os\n",
    "import numpy as np\n",
    "import nibabel as nib\n",
    "from nibabel.testing import data_path"
   ]
  },
  {
   "cell_type": "code",
   "execution_count": 2,
   "id": "ed54d735",
   "metadata": {},
   "outputs": [],
   "source": [
    "example_fn = os.path.join(data_path, 'example4d.nii.gz')"
   ]
  },
  {
   "cell_type": "code",
   "execution_count": 3,
   "id": "2145d67a",
   "metadata": {},
   "outputs": [],
   "source": [
    "img = nib.load(example_fn)"
   ]
  },
  {
   "cell_type": "code",
   "execution_count": 5,
   "id": "597a5dee",
   "metadata": {},
   "outputs": [
    {
     "name": "stdout",
     "output_type": "stream",
     "text": [
      "<class 'nibabel.nifti1.Nifti1Header'> object, endian='<'\n",
      "sizeof_hdr      : 348\n",
      "data_type       : b''\n",
      "db_name         : b''\n",
      "extents         : 0\n",
      "session_error   : 0\n",
      "regular         : b'r'\n",
      "dim_info        : 57\n",
      "dim             : [  4 128  96  24   2   1   1   1]\n",
      "intent_p1       : 0.0\n",
      "intent_p2       : 0.0\n",
      "intent_p3       : 0.0\n",
      "intent_code     : none\n",
      "datatype        : int16\n",
      "bitpix          : 16\n",
      "slice_start     : 0\n",
      "pixdim          : [-1.000000e+00  2.000000e+00  2.000000e+00  2.199999e+00  2.000000e+03\n",
      "  1.000000e+00  1.000000e+00  1.000000e+00]\n",
      "vox_offset      : 0.0\n",
      "scl_slope       : nan\n",
      "scl_inter       : nan\n",
      "slice_end       : 23\n",
      "slice_code      : unknown\n",
      "xyzt_units      : 10\n",
      "cal_max         : 1162.0\n",
      "cal_min         : 0.0\n",
      "slice_duration  : 0.0\n",
      "toffset         : 0.0\n",
      "glmax           : 0\n",
      "glmin           : 0\n",
      "descrip         : b'FSL3.3\\x00 v2.25 NIfTI-1 Single file format'\n",
      "aux_file        : b''\n",
      "qform_code      : scanner\n",
      "sform_code      : scanner\n",
      "quatern_b       : -1.9451068e-26\n",
      "quatern_c       : -0.9967085\n",
      "quatern_d       : -0.08106874\n",
      "qoffset_x       : 117.8551\n",
      "qoffset_y       : -35.722942\n",
      "qoffset_z       : -7.2487984\n",
      "srow_x          : [-2.0000000e+00  6.7147157e-19  9.0810245e-18  1.1785510e+02]\n",
      "srow_y          : [-6.7147157e-19  1.9737115e+00 -3.5552824e-01 -3.5722942e+01]\n",
      "srow_z          : [ 8.2554809e-18  3.2320762e-01  2.1710818e+00 -7.2487984e+00]\n",
      "intent_name     : b''\n",
      "magic           : b'n+1'\n"
     ]
    }
   ],
   "source": [
    "print(img.header)"
   ]
  },
  {
   "cell_type": "code",
   "execution_count": 4,
   "id": "e8927ed5",
   "metadata": {},
   "outputs": [
    {
     "data": {
      "text/plain": [
       "(128, 96, 24, 2)"
      ]
     },
     "execution_count": 4,
     "metadata": {},
     "output_type": "execute_result"
    }
   ],
   "source": [
    "img.shape"
   ]
  },
  {
   "cell_type": "code",
   "execution_count": 8,
   "id": "b8bf0122",
   "metadata": {},
   "outputs": [
    {
     "data": {
      "text/plain": [
       "True"
      ]
     },
     "execution_count": 8,
     "metadata": {},
     "output_type": "execute_result"
    }
   ],
   "source": [
    "img.get_data_dtype() == np.dtype(np.int16)"
   ]
  },
  {
   "cell_type": "code",
   "execution_count": 9,
   "id": "85623c30",
   "metadata": {},
   "outputs": [
    {
     "data": {
      "text/plain": [
       "(4, 4)"
      ]
     },
     "execution_count": 9,
     "metadata": {},
     "output_type": "execute_result"
    }
   ],
   "source": [
    "img.affine.shape"
   ]
  },
  {
   "cell_type": "markdown",
   "id": "a9e8b06c",
   "metadata": {},
   "source": [
    "Numpy"
   ]
  },
  {
   "cell_type": "code",
   "execution_count": 10,
   "id": "42783bd5",
   "metadata": {},
   "outputs": [
    {
     "data": {
      "text/plain": [
       "(128, 96, 24, 2)"
      ]
     },
     "execution_count": 10,
     "metadata": {},
     "output_type": "execute_result"
    }
   ],
   "source": [
    "data = img.get_fdata(); data.shape"
   ]
  },
  {
   "cell_type": "code",
   "execution_count": 11,
   "id": "b5257e5b",
   "metadata": {},
   "outputs": [
    {
     "data": {
      "text/plain": [
       "numpy.ndarray"
      ]
     },
     "execution_count": 11,
     "metadata": {},
     "output_type": "execute_result"
    }
   ],
   "source": [
    "type(data)"
   ]
  },
  {
   "cell_type": "code",
   "execution_count": 13,
   "id": "1b62ce94",
   "metadata": {},
   "outputs": [],
   "source": [
    "hdr = img.header"
   ]
  },
  {
   "cell_type": "code",
   "execution_count": 14,
   "id": "d7f7cce9",
   "metadata": {},
   "outputs": [
    {
     "data": {
      "text/plain": [
       "('mm', 'sec')"
      ]
     },
     "execution_count": 14,
     "metadata": {},
     "output_type": "execute_result"
    }
   ],
   "source": [
    "hdr.get_xyzt_units()"
   ]
  },
  {
   "cell_type": "markdown",
   "id": "8c2b2f55",
   "metadata": {},
   "source": [
    "Create Image"
   ]
  },
  {
   "cell_type": "code",
   "execution_count": 15,
   "id": "00a3eaed",
   "metadata": {},
   "outputs": [],
   "source": [
    "data = np.ones((32, 32, 15, 100), dtype=np.int16)"
   ]
  },
  {
   "cell_type": "code",
   "execution_count": 16,
   "id": "0977c0e7",
   "metadata": {},
   "outputs": [],
   "source": [
    "img = nib.Nifti1Image(data, np.eye(4))"
   ]
  },
  {
   "cell_type": "code",
   "execution_count": 17,
   "id": "d47fbc5d",
   "metadata": {},
   "outputs": [
    {
     "data": {
      "text/plain": [
       "True"
      ]
     },
     "execution_count": 17,
     "metadata": {},
     "output_type": "execute_result"
    }
   ],
   "source": [
    "img.get_data_dtype() == np.dtype(np.int16)"
   ]
  },
  {
   "cell_type": "code",
   "execution_count": 18,
   "id": "913f8da7",
   "metadata": {},
   "outputs": [
    {
     "data": {
      "text/plain": [
       "('unknown', 'unknown')"
      ]
     },
     "execution_count": 18,
     "metadata": {},
     "output_type": "execute_result"
    }
   ],
   "source": [
    "img.header.get_xyzt_units()"
   ]
  },
  {
   "cell_type": "code",
   "execution_count": 20,
   "id": "1712cda3",
   "metadata": {},
   "outputs": [],
   "source": [
    "nib.save(img, os.path.join('./', 'test4d.nii.gz'))"
   ]
  },
  {
   "cell_type": "code",
   "execution_count": null,
   "id": "0e68bc91",
   "metadata": {},
   "outputs": [],
   "source": []
  }
 ],
 "metadata": {
  "kernelspec": {
   "display_name": "Python 3",
   "language": "python",
   "name": "python3"
  },
  "language_info": {
   "codemirror_mode": {
    "name": "ipython",
    "version": 3
   },
   "file_extension": ".py",
   "mimetype": "text/x-python",
   "name": "python",
   "nbconvert_exporter": "python",
   "pygments_lexer": "ipython3",
   "version": "3.8.3"
  }
 },
 "nbformat": 4,
 "nbformat_minor": 5
}
