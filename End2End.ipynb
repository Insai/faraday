{
 "cells": [
  {
   "cell_type": "code",
   "execution_count": 4,
   "id": "6628f3a9",
   "metadata": {},
   "outputs": [],
   "source": [
    "# %pip install MPh"
   ]
  },
  {
   "cell_type": "code",
   "execution_count": 5,
   "id": "34e4e41d",
   "metadata": {},
   "outputs": [],
   "source": [
    "# import mph"
   ]
  },
  {
   "cell_type": "code",
   "execution_count": 6,
   "id": "8a02b115",
   "metadata": {},
   "outputs": [],
   "source": [
    "# client = mph.start(cores=1)"
   ]
  },
  {
   "cell_type": "code",
   "execution_count": 1,
   "id": "e3330a1b",
   "metadata": {},
   "outputs": [],
   "source": [
    "# %pip install steputils"
   ]
  },
  {
   "cell_type": "code",
   "execution_count": 24,
   "id": "b950a5fb",
   "metadata": {},
   "outputs": [],
   "source": [
    "%matplotlib inline"
   ]
  },
  {
   "cell_type": "markdown",
   "id": "8fbf47d9",
   "metadata": {},
   "source": [
    "### Step File"
   ]
  },
  {
   "cell_type": "code",
   "execution_count": 2,
   "id": "f62f8c53",
   "metadata": {},
   "outputs": [],
   "source": [
    "from steputils import p21"
   ]
  },
  {
   "cell_type": "code",
   "execution_count": 3,
   "id": "4c7034c9",
   "metadata": {},
   "outputs": [],
   "source": [
    "file = p21.readfile('./step-test.step')"
   ]
  },
  {
   "cell_type": "code",
   "execution_count": 4,
   "id": "77e0164d",
   "metadata": {},
   "outputs": [
    {
     "data": {
      "text/plain": [
       "[<steputils.p21.DataSection at 0x7f8468014e50>]"
      ]
     },
     "execution_count": 4,
     "metadata": {},
     "output_type": "execute_result"
    }
   ],
   "source": [
    "file.data"
   ]
  },
  {
   "cell_type": "code",
   "execution_count": 5,
   "id": "808a7173",
   "metadata": {},
   "outputs": [
    {
     "data": {
      "text/plain": [
       "<steputils.p21.StepFile at 0x7f8468014760>"
      ]
     },
     "execution_count": 5,
     "metadata": {},
     "output_type": "execute_result"
    }
   ],
   "source": [
    "file"
   ]
  },
  {
   "cell_type": "code",
   "execution_count": 6,
   "id": "d596f258",
   "metadata": {},
   "outputs": [
    {
     "data": {
      "text/plain": [
       "<steputils.p21.HeaderSection at 0x7f846802d400>"
      ]
     },
     "execution_count": 6,
     "metadata": {},
     "output_type": "execute_result"
    }
   ],
   "source": [
    "file.header"
   ]
  },
  {
   "cell_type": "markdown",
   "id": "3d2b62f6",
   "metadata": {},
   "source": [
    "### Iges"
   ]
  },
  {
   "cell_type": "code",
   "execution_count": 7,
   "id": "c7d24c44",
   "metadata": {},
   "outputs": [],
   "source": [
    "# %pip install pyiges"
   ]
  },
  {
   "cell_type": "code",
   "execution_count": 8,
   "id": "2310fd07",
   "metadata": {},
   "outputs": [],
   "source": [
    "import pyiges"
   ]
  },
  {
   "cell_type": "code",
   "execution_count": 19,
   "id": "79ce8dae",
   "metadata": {},
   "outputs": [],
   "source": [
    "from pyiges import examples"
   ]
  },
  {
   "cell_type": "code",
   "execution_count": 26,
   "id": "e31e2342",
   "metadata": {},
   "outputs": [],
   "source": [
    "iges = pyiges.read('./iges-test.igs')"
   ]
  },
  {
   "cell_type": "code",
   "execution_count": 28,
   "id": "4e766089",
   "metadata": {},
   "outputs": [],
   "source": [
    "# iges.items"
   ]
  },
  {
   "cell_type": "code",
   "execution_count": 20,
   "id": "9e252bf4",
   "metadata": {},
   "outputs": [],
   "source": [
    "iges = pyiges.read(examples.impeller)"
   ]
  },
  {
   "cell_type": "code",
   "execution_count": 29,
   "id": "16d36a1e",
   "metadata": {},
   "outputs": [
    {
     "name": "stderr",
     "output_type": "stream",
     "text": [
      "Converting entities to vtk: 100%|██████████| 2258/2258 [00:00<00:00, 3506.00it/s]\n"
     ]
    }
   ],
   "source": [
    "lines = iges.to_vtk(bsplines=True, surfaces=False, merge=True)"
   ]
  },
  {
   "cell_type": "code",
   "execution_count": 30,
   "id": "73341bad",
   "metadata": {},
   "outputs": [
    {
     "data": {
      "image/png": "[encoded data removed]",
      "text/plain": [
       "<PIL.Image.Image image mode=RGB size=1024x768 at 0x7F84682E8550>"
      ]
     },
     "metadata": {},
     "output_type": "display_data"
    }
   ],
   "source": [
    "lines.plot(color='w', line_width=2)"
   ]
  },
  {
   "cell_type": "code",
   "execution_count": 36,
   "id": "e885d7e9",
   "metadata": {},
   "outputs": [
    {
     "data": {
      "text/plain": [
       "pyvista.core.pointset.PolyData"
      ]
     },
     "execution_count": 36,
     "metadata": {},
     "output_type": "execute_result"
    }
   ],
   "source": [
    "type(lines)"
   ]
  },
  {
   "cell_type": "code",
   "execution_count": 37,
   "id": "a8a9718f",
   "metadata": {},
   "outputs": [],
   "source": [
    "from vtk.numpy_interface import dataset_adapter"
   ]
  },
  {
   "cell_type": "code",
   "execution_count": 40,
   "id": "70855262",
   "metadata": {},
   "outputs": [],
   "source": [
    "data = dataset_adapter.WrapDataObject(lines).Points"
   ]
  },
  {
   "cell_type": "code",
   "execution_count": 43,
   "id": "a08f17a2",
   "metadata": {},
   "outputs": [
    {
     "data": {
      "text/plain": [
       "(35280, 3)"
      ]
     },
     "execution_count": 43,
     "metadata": {},
     "output_type": "execute_result"
    }
   ],
   "source": [
    "data.shape"
   ]
  },
  {
   "cell_type": "code",
   "execution_count": 45,
   "id": "2b6b9659",
   "metadata": {},
   "outputs": [
    {
     "data": {
      "text/plain": [
       "vtk.numpy_interface.dataset_adapter.VTKArray"
      ]
     },
     "execution_count": 45,
     "metadata": {},
     "output_type": "execute_result"
    }
   ],
   "source": [
    "type(data)"
   ]
  },
  {
   "cell_type": "code",
   "execution_count": 72,
   "id": "65451f79",
   "metadata": {},
   "outputs": [
    {
     "data": {
      "text/plain": [
       "(35280, 3)"
      ]
     },
     "execution_count": 72,
     "metadata": {},
     "output_type": "execute_result"
    }
   ],
   "source": [
    "data.shape"
   ]
  },
  {
   "cell_type": "code",
   "execution_count": 74,
   "id": "e616caaa",
   "metadata": {},
   "outputs": [],
   "source": [
    "data1 = data.reshape(-1, 4)"
   ]
  },
  {
   "cell_type": "code",
   "execution_count": 75,
   "id": "4699f5b1",
   "metadata": {},
   "outputs": [
    {
     "data": {
      "text/plain": [
       "(26460, 4)"
      ]
     },
     "execution_count": 75,
     "metadata": {},
     "output_type": "execute_result"
    }
   ],
   "source": [
    "data1.shape"
   ]
  },
  {
   "cell_type": "markdown",
   "id": "b6d5127d",
   "metadata": {},
   "source": [
    "### Nifti"
   ]
  },
  {
   "cell_type": "code",
   "execution_count": 48,
   "id": "56ea36d9",
   "metadata": {},
   "outputs": [
    {
     "name": "stdout",
     "output_type": "stream",
     "text": [
      "Requirement already satisfied: nibabel in /Users/markyousef/opt/anaconda3/lib/python3.8/site-packages (3.2.1)\n",
      "Requirement already satisfied: numpy>=1.14 in /Users/markyousef/opt/anaconda3/lib/python3.8/site-packages (from nibabel) (1.19.2)\n",
      "Requirement already satisfied: packaging>=14.3 in /Users/markyousef/opt/anaconda3/lib/python3.8/site-packages (from nibabel) (20.9)\n",
      "Requirement already satisfied: pyparsing>=2.0.2 in /Users/markyousef/opt/anaconda3/lib/python3.8/site-packages (from packaging>=14.3->nibabel) (2.4.7)\n",
      "Note: you may need to restart the kernel to use updated packages.\n"
     ]
    }
   ],
   "source": [
    "%pip install nibabel"
   ]
  },
  {
   "cell_type": "code",
   "execution_count": 51,
   "id": "45548649",
   "metadata": {},
   "outputs": [],
   "source": [
    "import nibabel\n",
    "import numpy as np"
   ]
  },
  {
   "cell_type": "code",
   "execution_count": 67,
   "id": "f3ec8d36",
   "metadata": {},
   "outputs": [],
   "source": [
    "_data = np.array(data, dtype=np.float32)"
   ]
  },
  {
   "cell_type": "markdown",
   "id": "7ffcdc1c",
   "metadata": {},
   "source": [
    "3D vs 4D??"
   ]
  },
  {
   "cell_type": "code",
   "execution_count": 82,
   "id": "269d7f1e",
   "metadata": {},
   "outputs": [
    {
     "data": {
      "text/plain": [
       "array([[1., 0., 0., 0.],\n",
       "       [0., 1., 0., 0.],\n",
       "       [0., 0., 1., 0.],\n",
       "       [0., 0., 0., 1.]])"
      ]
     },
     "execution_count": 82,
     "metadata": {},
     "output_type": "execute_result"
    }
   ],
   "source": [
    "affine = np.eye(4); affine"
   ]
  },
  {
   "cell_type": "code",
   "execution_count": 83,
   "id": "65f1c532",
   "metadata": {},
   "outputs": [],
   "source": [
    "nifti = nibabel.Nifti1Image(data1, affine)"
   ]
  },
  {
   "cell_type": "code",
   "execution_count": 78,
   "id": "ce53e77b",
   "metadata": {},
   "outputs": [],
   "source": [
    "nibabel.save(nifti, './test-nifti')"
   ]
  },
  {
   "cell_type": "code",
   "execution_count": null,
   "id": "b873a6c9",
   "metadata": {},
   "outputs": [],
   "source": []
  }
 ],
 "metadata": {
  "kernelspec": {
   "display_name": "Python 3",
   "language": "python",
   "name": "python3"
  },
  "language_info": {
   "codemirror_mode": {
    "name": "ipython",
    "version": 3
   },
   "file_extension": ".py",
   "mimetype": "text/x-python",
   "name": "python",
   "nbconvert_exporter": "python",
   "pygments_lexer": "ipython3",
   "version": "3.8.3"
  }
 },
 "nbformat": 4,
 "nbformat_minor": 5
}
