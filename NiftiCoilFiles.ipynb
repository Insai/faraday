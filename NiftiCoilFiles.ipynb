{
 "cells": [
  {
   "cell_type": "code",
   "execution_count": 2,
   "id": "336aa226",
   "metadata": {},
   "outputs": [],
   "source": [
    "import os\n",
    "import numpy as np\n",
    "import nibabel as nib"
   ]
  },
  {
   "cell_type": "markdown",
   "id": "595c2de9",
   "metadata": {},
   "source": [
    "https://drive.google.com/file/d/1UFnxQaxOAnsDGNqCFD2_n4RPYLM-CEty/view"
   ]
  },
  {
   "cell_type": "markdown",
   "id": "5f826c8c",
   "metadata": {},
   "source": [
    "[Nifti header](https://brainder.org/2012/09/23/the-nifti-file-format/)\n",
    "\n",
    "[Plotting 3d ](https://stackoverflow.com/questions/14995610/how-to-make-a-4d-plot-with-matplotlib-using-arbitrary-data)"
   ]
  },
  {
   "cell_type": "code",
   "execution_count": 15,
   "id": "44f0e1b6",
   "metadata": {},
   "outputs": [],
   "source": [
    "img_fig8 = nib.load('./ccd-files/Magstim_70mm_Fig8.nii.gz')\n",
    "img_21 = nib.load('./ccd-files/Deng_Brain_Stimul_2013/No21_Three_Layer_Double_Coil.nii.gz')\n",
    "img_25 = nib.load('./ccd-files/Deng_Brain_Stimul_2013/No25_Magstim_Figure8_25mm.nii.gz')"
   ]
  },
  {
   "cell_type": "code",
   "execution_count": 16,
   "id": "e29b83a1",
   "metadata": {},
   "outputs": [],
   "source": [
    "x, y, z, time = img.shape"
   ]
  },
  {
   "cell_type": "code",
   "execution_count": 13,
   "id": "f0548714",
   "metadata": {},
   "outputs": [
    {
     "name": "stdout",
     "output_type": "stream",
     "text": [
      "<class 'nibabel.nifti1.Nifti1Header'> object, endian='<'\n",
      "sizeof_hdr      : 348\n",
      "data_type       : b'          '\n",
      "db_name         : b'                  '\n",
      "extents         : 16384\n",
      "session_error   : 0\n",
      "regular         : b'r'\n",
      "dim_info        : 0\n",
      "dim             : [  4 161 161  81   3   1   1   1]\n",
      "intent_p1       : 0.0\n",
      "intent_p2       : 0.0\n",
      "intent_p3       : 0.0\n",
      "intent_code     : none\n",
      "datatype        : float32\n",
      "bitpix          : 32\n",
      "slice_start     : 0\n",
      "pixdim          : [1.  2.5 2.5 2.5 1.  1.  1.  1. ]\n",
      "vox_offset      : 0.0\n",
      "scl_slope       : nan\n",
      "scl_inter       : nan\n",
      "slice_end       : 0\n",
      "slice_code      : unknown\n",
      "xyzt_units      : 2\n",
      "cal_max         : 0.0\n",
      "cal_min         : 0.0\n",
      "slice_duration  : 0.0\n",
      "toffset         : 0.0\n",
      "glmax           : 0\n",
      "glmin           : 0\n",
      "descrip         : b'                                                                                '\n",
      "aux_file        : b'                        '\n",
      "qform_code      : unknown\n",
      "sform_code      : scanner\n",
      "quatern_b       : 0.0\n",
      "quatern_c       : 0.0\n",
      "quatern_d       : 0.0\n",
      "qoffset_x       : 0.0\n",
      "qoffset_y       : 0.0\n",
      "qoffset_z       : 0.0\n",
      "srow_x          : [   2.5    0.     0.  -200. ]\n",
      "srow_y          : [   0.     2.5    0.  -200. ]\n",
      "srow_z          : [0.  0.  2.5 0. ]\n",
      "intent_name     : b'                '\n",
      "magic           : b'n+1'\n"
     ]
    }
   ],
   "source": [
    "print(img_21.header)"
   ]
  },
  {
   "cell_type": "code",
   "execution_count": 14,
   "id": "582edd95",
   "metadata": {},
   "outputs": [
    {
     "name": "stdout",
     "output_type": "stream",
     "text": [
      "<class 'nibabel.nifti1.Nifti1Header'> object, endian='<'\n",
      "sizeof_hdr      : 348\n",
      "data_type       : b'          '\n",
      "db_name         : b'                  '\n",
      "extents         : 16384\n",
      "session_error   : 0\n",
      "regular         : b'r'\n",
      "dim_info        : 0\n",
      "dim             : [  4 161 161  81   3   1   1   1]\n",
      "intent_p1       : 0.0\n",
      "intent_p2       : 0.0\n",
      "intent_p3       : 0.0\n",
      "intent_code     : none\n",
      "datatype        : float32\n",
      "bitpix          : 32\n",
      "slice_start     : 0\n",
      "pixdim          : [1.  2.5 2.5 2.5 1.  1.  1.  1. ]\n",
      "vox_offset      : 0.0\n",
      "scl_slope       : nan\n",
      "scl_inter       : nan\n",
      "slice_end       : 0\n",
      "slice_code      : unknown\n",
      "xyzt_units      : 2\n",
      "cal_max         : 0.0\n",
      "cal_min         : 0.0\n",
      "slice_duration  : 0.0\n",
      "toffset         : 0.0\n",
      "glmax           : 0\n",
      "glmin           : 0\n",
      "descrip         : b'                                                                                '\n",
      "aux_file        : b'                        '\n",
      "qform_code      : unknown\n",
      "sform_code      : scanner\n",
      "quatern_b       : 0.0\n",
      "quatern_c       : 0.0\n",
      "quatern_d       : 0.0\n",
      "qoffset_x       : 0.0\n",
      "qoffset_y       : 0.0\n",
      "qoffset_z       : 0.0\n",
      "srow_x          : [   2.5    0.     0.  -200. ]\n",
      "srow_y          : [   0.     2.5    0.  -200. ]\n",
      "srow_z          : [0.  0.  2.5 0. ]\n",
      "intent_name     : b'                '\n",
      "magic           : b'n+1'\n"
     ]
    }
   ],
   "source": [
    "print(img_25.header)"
   ]
  },
  {
   "cell_type": "code",
   "execution_count": 17,
   "id": "9815c649",
   "metadata": {},
   "outputs": [
    {
     "name": "stdout",
     "output_type": "stream",
     "text": [
      "<class 'nibabel.nifti1.Nifti1Header'> object, endian='<'\n",
      "sizeof_hdr      : 348\n",
      "data_type       : b''\n",
      "db_name         : b''\n",
      "extents         : 0\n",
      "session_error   : 0\n",
      "regular         : b''\n",
      "dim_info        : 0\n",
      "dim             : [  4 121  81  41   3   1   1   1]\n",
      "intent_p1       : 0.0\n",
      "intent_p2       : 0.0\n",
      "intent_p3       : 0.0\n",
      "intent_code     : none\n",
      "datatype        : float32\n",
      "bitpix          : 32\n",
      "slice_start     : 0\n",
      "pixdim          : [1. 5. 5. 5. 1. 1. 1. 1.]\n",
      "vox_offset      : 0.0\n",
      "scl_slope       : nan\n",
      "scl_inter       : nan\n",
      "slice_end       : 0\n",
      "slice_code      : unknown\n",
      "xyzt_units      : 2\n",
      "cal_max         : 0.0\n",
      "cal_min         : 0.0\n",
      "slice_duration  : 0.0\n",
      "toffset         : 0.0\n",
      "glmax           : 0\n",
      "glmin           : 0\n",
      "descrip         : b''\n",
      "aux_file        : b''\n",
      "qform_code      : unknown\n",
      "sform_code      : aligned\n",
      "quatern_b       : 0.0\n",
      "quatern_c       : 0.0\n",
      "quatern_d       : 0.0\n",
      "qoffset_x       : -300.0\n",
      "qoffset_y       : -200.0\n",
      "qoffset_z       : 0.0\n",
      "srow_x          : [   5.    0.    0. -300.]\n",
      "srow_y          : [   0.    5.    0. -200.]\n",
      "srow_z          : [0. 0. 5. 0.]\n",
      "intent_name     : b''\n",
      "magic           : b'n+1'\n"
     ]
    }
   ],
   "source": [
    "print(img_fig8.header)"
   ]
  },
  {
   "cell_type": "code",
   "execution_count": 6,
   "id": "71a3abc1",
   "metadata": {},
   "outputs": [
    {
     "data": {
      "text/plain": [
       "(4, 4)"
      ]
     },
     "execution_count": 6,
     "metadata": {},
     "output_type": "execute_result"
    }
   ],
   "source": [
    "img.affine.shape"
   ]
  },
  {
   "cell_type": "code",
   "execution_count": 7,
   "id": "f1852f8c",
   "metadata": {},
   "outputs": [
    {
     "data": {
      "text/plain": [
       "('mm', 'unknown')"
      ]
     },
     "execution_count": 7,
     "metadata": {},
     "output_type": "execute_result"
    }
   ],
   "source": [
    "img.header.get_xyzt_units()"
   ]
  },
  {
   "cell_type": "code",
   "execution_count": 8,
   "id": "641bde68",
   "metadata": {},
   "outputs": [
    {
     "data": {
      "text/plain": [
       "(161, 161, 81, 3)"
      ]
     },
     "execution_count": 8,
     "metadata": {},
     "output_type": "execute_result"
    }
   ],
   "source": [
    "data = img.get_fdata(); data.shape"
   ]
  },
  {
   "cell_type": "code",
   "execution_count": 96,
   "id": "14f343c3",
   "metadata": {},
   "outputs": [
    {
     "data": {
      "text/plain": [
       "(121, 81, 41)"
      ]
     },
     "execution_count": 96,
     "metadata": {},
     "output_type": "execute_result"
    }
   ],
   "source": [
    "data[:,:,:,0]"
   ]
  },
  {
   "cell_type": "code",
   "execution_count": 99,
   "id": "a76d528f",
   "metadata": {},
   "outputs": [],
   "source": [
    "x = np.random.standard_normal(100)\n",
    "y = np.random.standard_normal(100)\n",
    "z = np.random.standard_normal(100)\n",
    "c = np.random.standard_normal(100)"
   ]
  },
  {
   "cell_type": "code",
   "execution_count": 100,
   "id": "9a7a2fbe",
   "metadata": {},
   "outputs": [
    {
     "data": {
      "image/png": "[encoded data removed]",
      "text/plain": [
       "<Figure size 432x288 with 2 Axes>"
      ]
     },
     "metadata": {
      "needs_background": "light"
     },
     "output_type": "display_data"
    }
   ],
   "source": [
    "from mpl_toolkits.mplot3d import Axes3D\n",
    "import matplotlib.pyplot as plt\n",
    "import numpy as np\n",
    "\n",
    "fig = plt.figure()\n",
    "ax = fig.add_subplot(111, projection='3d')\n",
    "\n",
    "img = ax.scatter(x, y, z, c=c, cmap=plt.hot())\n",
    "fig.colorbar(img)\n",
    "plt.show()"
   ]
  },
  {
   "cell_type": "code",
   "execution_count": null,
   "id": "8caeb6c4",
   "metadata": {},
   "outputs": [],
   "source": []
  }
 ],
 "metadata": {
  "kernelspec": {
   "display_name": "Python 3",
   "language": "python",
   "name": "python3"
  },
  "language_info": {
   "codemirror_mode": {
    "name": "ipython",
    "version": 3
   },
   "file_extension": ".py",
   "mimetype": "text/x-python",
   "name": "python",
   "nbconvert_exporter": "python",
   "pygments_lexer": "ipython3",
   "version": "3.8.3"
  }
 },
 "nbformat": 4,
 "nbformat_minor": 5
}
