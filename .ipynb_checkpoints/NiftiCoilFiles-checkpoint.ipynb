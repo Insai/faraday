{
 "cells": [
  {
   "cell_type": "code",
   "execution_count": 1,
   "id": "4f03bb9a",
   "metadata": {},
   "outputs": [],
   "source": [
    "import os\n",
    "import numpy as np\n",
    "import nibabel as nib"
   ]
  },
  {
   "cell_type": "markdown",
   "id": "ddb5c94f",
   "metadata": {},
   "source": [
    "https://drive.google.com/file/d/1UFnxQaxOAnsDGNqCFD2_n4RPYLM-CEty/view"
   ]
  },
  {
   "cell_type": "markdown",
   "id": "28830290",
   "metadata": {},
   "source": [
    "[Nifti header](https://brainder.org/2012/09/23/the-nifti-file-format/)"
   ]
  },
  {
   "cell_type": "code",
   "execution_count": 76,
   "id": "30fc2f90",
   "metadata": {},
   "outputs": [],
   "source": [
    "img = nib.load('./ccd-files/Magstim_70mm_Fig8.nii.gz')"
   ]
  },
  {
   "cell_type": "code",
   "execution_count": 80,
   "id": "00cf351b",
   "metadata": {},
   "outputs": [],
   "source": [
    "x, y, z, time = img.shape"
   ]
  },
  {
   "cell_type": "code",
   "execution_count": 79,
   "id": "7caf0efc",
   "metadata": {},
   "outputs": [
    {
     "name": "stdout",
     "output_type": "stream",
     "text": [
      "<class 'nibabel.nifti1.Nifti1Header'> object, endian='<'\n",
      "sizeof_hdr      : 348\n",
      "data_type       : b''\n",
      "db_name         : b''\n",
      "extents         : 0\n",
      "session_error   : 0\n",
      "regular         : b''\n",
      "dim_info        : 0\n",
      "dim             : [  4 121  81  41   3   1   1   1]\n",
      "intent_p1       : 0.0\n",
      "intent_p2       : 0.0\n",
      "intent_p3       : 0.0\n",
      "intent_code     : none\n",
      "datatype        : float32\n",
      "bitpix          : 32\n",
      "slice_start     : 0\n",
      "pixdim          : [1. 5. 5. 5. 1. 1. 1. 1.]\n",
      "vox_offset      : 0.0\n",
      "scl_slope       : nan\n",
      "scl_inter       : nan\n",
      "slice_end       : 0\n",
      "slice_code      : unknown\n",
      "xyzt_units      : 2\n",
      "cal_max         : 0.0\n",
      "cal_min         : 0.0\n",
      "slice_duration  : 0.0\n",
      "toffset         : 0.0\n",
      "glmax           : 0\n",
      "glmin           : 0\n",
      "descrip         : b''\n",
      "aux_file        : b''\n",
      "qform_code      : unknown\n",
      "sform_code      : aligned\n",
      "quatern_b       : 0.0\n",
      "quatern_c       : 0.0\n",
      "quatern_d       : 0.0\n",
      "qoffset_x       : -300.0\n",
      "qoffset_y       : -200.0\n",
      "qoffset_z       : 0.0\n",
      "srow_x          : [   5.    0.    0. -300.]\n",
      "srow_y          : [   0.    5.    0. -200.]\n",
      "srow_z          : [0. 0. 5. 0.]\n",
      "intent_name     : b''\n",
      "magic           : b'n+1'\n"
     ]
    }
   ],
   "source": [
    "print(img.header)"
   ]
  },
  {
   "cell_type": "code",
   "execution_count": 4,
   "id": "36ef1ccc",
   "metadata": {},
   "outputs": [
    {
     "data": {
      "text/plain": [
       "(4, 4)"
      ]
     },
     "execution_count": 4,
     "metadata": {},
     "output_type": "execute_result"
    }
   ],
   "source": [
    "img.affine.shape"
   ]
  },
  {
   "cell_type": "code",
   "execution_count": 5,
   "id": "6b9fb546",
   "metadata": {},
   "outputs": [
    {
     "data": {
      "text/plain": [
       "('mm', 'unknown')"
      ]
     },
     "execution_count": 5,
     "metadata": {},
     "output_type": "execute_result"
    }
   ],
   "source": [
    "img.header.get_xyzt_units()"
   ]
  },
  {
   "cell_type": "code",
   "execution_count": 33,
   "id": "42c564e8",
   "metadata": {},
   "outputs": [
    {
     "data": {
      "text/plain": [
       "(121, 81, 41, 3)"
      ]
     },
     "execution_count": 33,
     "metadata": {},
     "output_type": "execute_result"
    }
   ],
   "source": [
    "data = img.get_fdata(); data.shape"
   ]
  },
  {
   "cell_type": "code",
   "execution_count": 81,
   "id": "14f00ca0",
   "metadata": {},
   "outputs": [
    {
     "data": {
      "text/plain": [
       "(121, 81, 41, 3)"
      ]
     },
     "execution_count": 81,
     "metadata": {},
     "output_type": "execute_result"
    }
   ],
   "source": [
    "data.shape"
   ]
  },
  {
   "cell_type": "code",
   "execution_count": null,
   "id": "522c6158",
   "metadata": {},
   "outputs": [],
   "source": []
  }
 ],
 "metadata": {
  "kernelspec": {
   "display_name": "Python 3",
   "language": "python",
   "name": "python3"
  },
  "language_info": {
   "codemirror_mode": {
    "name": "ipython",
    "version": 3
   },
   "file_extension": ".py",
   "mimetype": "text/x-python",
   "name": "python",
   "nbconvert_exporter": "python",
   "pygments_lexer": "ipython3",
   "version": "3.8.3"
  }
 },
 "nbformat": 4,
 "nbformat_minor": 5
}
