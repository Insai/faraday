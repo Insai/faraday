{
 "cells": [
  {
   "cell_type": "code",
   "execution_count": 1,
   "metadata": {},
   "outputs": [],
   "source": [
    "import os"
   ]
  },
  {
   "cell_type": "code",
   "execution_count": 2,
   "metadata": {},
   "outputs": [],
   "source": [
    "import numpy as np"
   ]
  },
  {
   "cell_type": "code",
   "execution_count": 3,
   "metadata": {},
   "outputs": [],
   "source": [
    "import simnibs"
   ]
  },
  {
   "cell_type": "code",
   "execution_count": 5,
   "metadata": {},
   "outputs": [
    {
     "ename": "SyntaxError",
     "evalue": "invalid syntax (3317356070.py, line 1)",
     "output_type": "error",
     "traceback": [
      "\u001b[0;36m  Cell \u001b[0;32mIn[5], line 1\u001b[0;36m\u001b[0m\n\u001b[0;31m    ccd2nifti.\u001b[0m\n\u001b[0m              ^\u001b[0m\n\u001b[0;31mSyntaxError\u001b[0m\u001b[0;31m:\u001b[0m invalid syntax\n"
     ]
    }
   ],
   "source": []
  },
  {
   "cell_type": "code",
   "execution_count": 4,
   "metadata": {},
   "outputs": [
    {
     "data": {
      "text/plain": [
       "'/Volumes/Samsung_T5/SimNIBS/Coils/faraday'"
      ]
     },
     "execution_count": 4,
     "metadata": {},
     "output_type": "execute_result"
    }
   ],
   "source": [
    "os.getcwd()"
   ]
  },
  {
   "cell_type": "code",
   "execution_count": 5,
   "metadata": {},
   "outputs": [],
   "source": [
    "## Load simulation result\n",
    "file = 'simnibs_simulation/ernie_TMS_1-0001_Magstim_70mm_Fig8_nii_scalar.msh'\n",
    "# Read the simulation result\n",
    "head_mesh = simnibs.read_msh(file)\n"
   ]
  },
  {
   "cell_type": "code",
   "execution_count": 17,
   "metadata": {},
   "outputs": [
    {
     "data": {
      "text/plain": [
       "<simnibs.mesh_tools.mesh_io.Msh at 0x7faff1a72820>"
      ]
     },
     "execution_count": 17,
     "metadata": {},
     "output_type": "execute_result"
    }
   ],
   "source": [
    "head_mesh."
   ]
  },
  {
   "cell_type": "code",
   "execution_count": 7,
   "metadata": {},
   "outputs": [],
   "source": [
    "\n",
    "# Crop the mesh so we only have gray matter volume elements (tag 2 in the mesh)\n",
    "gray_matter = head_mesh.crop_mesh(2)\n",
    "\n",
    "\n",
    "## Define the ROI\n",
    "\n",
    "# Define M1 from MNI coordinates (https://www.ncbi.nlm.nih.gov/pmc/articles/PMC2034289/)\n",
    "# the first argument is the MNI coordinates\n",
    "# the second argument is the subject \"m2m\" folder\n",
    "ernie_coords = simnibs.mni2subject_coords([-37, -21, 58], 'm2m_ernie')\n",
    "# we will use a sphere of radius 10 mm\n",
    "r = 10.\n"
   ]
  },
  {
   "cell_type": "code",
   "execution_count": 8,
   "metadata": {},
   "outputs": [],
   "source": [
    "\n",
    "# Electric fields are defined in the center of the elements\n",
    "# get element centers\n",
    "elm_centers = gray_matter.elements_baricenters()[:]\n",
    "# determine the elements in the ROI\n",
    "roi = np.linalg.norm(elm_centers - ernie_coords, axis=1) < r\n",
    "# get the element volumes, we will use those for averaging\n",
    "elm_vols = gray_matter.elements_volumes_and_areas()[:]\n"
   ]
  },
  {
   "cell_type": "code",
   "execution_count": 9,
   "metadata": {},
   "outputs": [],
   "source": [
    "\n",
    "## Plot the ROI\n",
    "#gray_matter.add_element_field(roi, 'roi')\n",
    "#gray_matter.view(visible_fields='roi').show()\n"
   ]
  },
  {
   "cell_type": "code",
   "execution_count": 10,
   "metadata": {},
   "outputs": [
    {
     "name": "stdout",
     "output_type": "stream",
     "text": [
      "mean  magnE  in M1 ROI:  0.5251025666724989\n"
     ]
    }
   ],
   "source": [
    "\n",
    "## Get field and calculate the mean\n",
    "# get the field of interest\n",
    "field_name = 'magnE'\n",
    "field = gray_matter.field[field_name][:]\n",
    "\n",
    "# Calculate the mean\n",
    "mean_magnE = np.average(field[roi], weights=elm_vols[roi])\n",
    "print('mean ', field_name, ' in M1 ROI: ', mean_magnE)"
   ]
  },
  {
   "cell_type": "code",
   "execution_count": null,
   "metadata": {},
   "outputs": [],
   "source": []
  },
  {
   "cell_type": "code",
   "execution_count": null,
   "metadata": {},
   "outputs": [],
   "source": []
  },
  {
   "cell_type": "code",
   "execution_count": null,
   "metadata": {},
   "outputs": [],
   "source": []
  },
  {
   "cell_type": "code",
   "execution_count": null,
   "metadata": {},
   "outputs": [],
   "source": []
  },
  {
   "cell_type": "code",
   "execution_count": null,
   "metadata": {},
   "outputs": [],
   "source": []
  }
 ],
 "metadata": {
  "kernelspec": {
   "display_name": "Python 3",
   "language": "python",
   "name": "python3"
  },
  "language_info": {
   "codemirror_mode": {
    "name": "ipython",
    "version": 3
   },
   "file_extension": ".py",
   "mimetype": "text/x-python",
   "name": "python",
   "nbconvert_exporter": "python",
   "pygments_lexer": "ipython3",
   "version": "3.8.5"
  }
 },
 "nbformat": 4,
 "nbformat_minor": 5
}
